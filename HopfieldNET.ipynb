{
 "cells": [
  {
   "cell_type": "code",
   "execution_count": 6,
   "id": "18d208d0-b738-4912-ab43-4c55f9e5b4f4",
   "metadata": {
    "tags": []
   },
   "outputs": [
    {
     "name": "stderr",
     "output_type": "stream",
     "text": [
      "\u001b[32m\u001b[1m   Resolving\u001b[22m\u001b[39m package versions...\n",
      "\u001b[32m\u001b[1m  No Changes\u001b[22m\u001b[39m to `~/.julia/environments/v1.7/Project.toml`\n",
      "\u001b[32m\u001b[1m  No Changes\u001b[22m\u001b[39m to `~/.julia/environments/v1.7/Manifest.toml`\n",
      "\u001b[32m\u001b[1m   Resolving\u001b[22m\u001b[39m package versions...\n",
      "\u001b[32m\u001b[1m  No Changes\u001b[22m\u001b[39m to `~/.julia/environments/v1.7/Project.toml`\n",
      "\u001b[32m\u001b[1m  No Changes\u001b[22m\u001b[39m to `~/.julia/environments/v1.7/Manifest.toml`\n",
      "\u001b[32m\u001b[1m   Resolving\u001b[22m\u001b[39m package versions...\n",
      "\u001b[32m\u001b[1m    Updating\u001b[22m\u001b[39m `~/.julia/environments/v1.7/Project.toml`\n",
      " \u001b[90m [9a3f8284] \u001b[39m\u001b[92m+ Random\u001b[39m\n",
      "\u001b[32m\u001b[1m  No Changes\u001b[22m\u001b[39m to `~/.julia/environments/v1.7/Manifest.toml`\n"
     ]
    }
   ],
   "source": [
    "using Pkg\n",
    "Pkg.add(\"LinearAlgebra\")\n",
    "Pkg.add(\"Plots\")\n",
    "Pkg.add(\"Random\")\n",
    "using LinearAlgebra\n",
    "using Plots\n",
    "using Random"
   ]
  },
  {
   "cell_type": "markdown",
   "id": "ee670631-baaf-430f-ba66-d98199923ac8",
   "metadata": {},
   "source": [
    "# Nice"
   ]
  },
  {
   "cell_type": "markdown",
   "id": "3bee9421-2128-4491-837c-a6329339c484",
   "metadata": {},
   "source": [
    "## Neurons"
   ]
  },
  {
   "cell_type": "code",
   "execution_count": 49,
   "id": "f74df53f-f81c-4d60-9d31-3e8169e4e64c",
   "metadata": {},
   "outputs": [
    {
     "data": {
      "text/plain": [
       "initialise_weights (generic function with 1 method)"
      ]
     },
     "execution_count": 49,
     "metadata": {},
     "output_type": "execute_result"
    }
   ],
   "source": [
    "function generate_memories(\n",
    "        N, n\n",
    "        )\n",
    "    \"\"\"\n",
    "    Generate n random N neuron memories.\n",
    "    Columns neuron states\n",
    "    Rows memory\n",
    "    \"\"\"\n",
    "    return bitrand((N,n))\n",
    "end \n",
    "\n",
    "function initialise_weights(\n",
    "        memories\n",
    "        )\n",
    "    \"\"\"\n",
    "    Initialise and return weight matrix.\n",
    "    \n",
    "    Given the matrix of memories to store where each column \n",
    "    is a state, each row a memory, return a matrix of\n",
    "    weights between neurons in network via Hebbian \n",
    "    learning prescription.\n",
    "    \"\"\"\n",
    "    # Initialise Tij weight matrix \n",
    "    N = length(memories[:,1])\n",
    "    n = length(memories[1,:])\n",
    "    T = zeros(\n",
    "        Int8,\n",
    "        (N,N)\n",
    "    )\n",
    "    \n",
    "    # Iterate via Hebbian learning rule\n",
    "    for ii in 1:N\n",
    "        for jj in 1:N\n",
    "            for kk in 1:n\n",
    "                T[ii,jj] += (2*memories[ii,kk] - 1)*(2*memories[jj,kk]-1)\n",
    "            end\n",
    "        end\n",
    "    end\n",
    "                \n",
    "    return T\n",
    "end"
   ]
  },
  {
   "cell_type": "markdown",
   "id": "40b06595-a3c1-48ec-8a6c-dc043b5b280f",
   "metadata": {},
   "source": [
    "# Rough"
   ]
  },
  {
   "cell_type": "markdown",
   "id": "0e32809c-d1dd-4b03-993e-c793610e9198",
   "metadata": {
    "tags": []
   },
   "source": [
    "## Neurons"
   ]
  },
  {
   "cell_type": "code",
   "execution_count": 12,
   "id": "af45755e-76f4-4052-b93a-3f07e8e79387",
   "metadata": {},
   "outputs": [
    {
     "data": {
      "text/plain": [
       "10×10 BitMatrix:\n",
       " 0  0  0  1  0  1  0  1  0  0\n",
       " 1  0  1  0  0  0  0  1  0  0\n",
       " 0  0  0  1  0  0  0  1  0  1\n",
       " 0  1  0  1  0  0  0  0  1  0\n",
       " 1  0  0  1  1  0  1  1  1  0\n",
       " 0  1  0  0  1  1  0  0  1  1\n",
       " 1  0  1  0  0  1  0  1  1  0\n",
       " 1  1  0  0  0  0  1  1  0  1\n",
       " 0  1  0  0  0  0  1  1  0  0\n",
       " 1  0  1  0  0  0  1  0  0  0"
      ]
     },
     "execution_count": 12,
     "metadata": {},
     "output_type": "execute_result"
    }
   ],
   "source": [
    "Vi = bitrand((10,10))"
   ]
  },
  {
   "cell_type": "code",
   "execution_count": 16,
   "id": "52aefd4c-27ae-46db-b3aa-b52b18015bff",
   "metadata": {
    "tags": []
   },
   "outputs": [
    {
     "data": {
      "text/plain": [
       "10-element BitVector:\n",
       " 0\n",
       " 1\n",
       " 0\n",
       " 0\n",
       " 1\n",
       " 0\n",
       " 1\n",
       " 1\n",
       " 0\n",
       " 1"
      ]
     },
     "execution_count": 16,
     "metadata": {},
     "output_type": "execute_result"
    }
   ],
   "source": [
    "Vi[:,1]"
   ]
  },
  {
   "cell_type": "code",
   "execution_count": 37,
   "id": "f6cc171d-b223-4dbb-8f6e-8581b0272634",
   "metadata": {},
   "outputs": [
    {
     "name": "stdout",
     "output_type": "stream",
     "text": [
      "12345678910"
     ]
    }
   ],
   "source": [
    "for ii in 1:10\n",
    "    print(ii)\n",
    "end"
   ]
  },
  {
   "cell_type": "code",
   "execution_count": 46,
   "id": "373ac134-f868-4ae5-ba88-698361b14256",
   "metadata": {},
   "outputs": [
    {
     "data": {
      "text/plain": [
       "true"
      ]
     },
     "execution_count": 46,
     "metadata": {},
     "output_type": "execute_result"
    }
   ],
   "source": [
    "mems[10,1]"
   ]
  },
  {
   "cell_type": "code",
   "execution_count": 50,
   "id": "dae8d71f-7189-4926-8b62-2744bf0034ed",
   "metadata": {},
   "outputs": [
    {
     "data": {
      "text/plain": [
       "10×10 Matrix{Int8}:\n",
       "  3  -1   1   1   3   1   3  -1  -1   3\n",
       " -1   3  -3  -3  -1   1  -1  -1  -1  -1\n",
       "  1  -3   3   3   1  -1   1   1   1   1\n",
       "  1  -3   3   3   1  -1   1   1   1   1\n",
       "  3  -1   1   1   3   1   3  -1  -1   3\n",
       "  1   1  -1  -1   1   3   1   1  -3   1\n",
       "  3  -1   1   1   3   1   3  -1  -1   3\n",
       " -1  -1   1   1  -1   1  -1   3  -1  -1\n",
       " -1  -1   1   1  -1  -3  -1  -1   3  -1\n",
       "  3  -1   1   1   3   1   3  -1  -1   3"
      ]
     },
     "execution_count": 50,
     "metadata": {},
     "output_type": "execute_result"
    }
   ],
   "source": [
    "mems = generate_memories(10,3)\n",
    "weight_mat = initialise_weights(mems)"
   ]
  },
  {
   "cell_type": "code",
   "execution_count": null,
   "id": "ebcc0187-4ab4-4f49-b6ab-1769dca612ba",
   "metadata": {},
   "outputs": [],
   "source": []
  }
 ],
 "metadata": {
  "kernelspec": {
   "display_name": "Julia 1.7.3",
   "language": "julia",
   "name": "julia-1.7"
  },
  "language_info": {
   "file_extension": ".jl",
   "mimetype": "application/julia",
   "name": "julia",
   "version": "1.7.3"
  }
 },
 "nbformat": 4,
 "nbformat_minor": 5
}

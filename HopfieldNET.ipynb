{
 "cells": [
  {
   "cell_type": "code",
   "execution_count": 3,
   "id": "18d208d0-b738-4912-ab43-4c55f9e5b4f4",
   "metadata": {
    "tags": []
   },
   "outputs": [
    {
     "name": "stderr",
     "output_type": "stream",
     "text": [
      "\u001b[32m\u001b[1m    Updating\u001b[22m\u001b[39m registry at `~/.julia/registries/General.toml`\n",
      "┌ Warning: could not download https://pkg.julialang.org/registries\n",
      "│   exception = Downloads.RequestError(\"https://pkg.julialang.org/registries\", 28, \"Operation timed out after 30001 milliseconds with 0 out of 0 bytes received\", Downloads.Response(\"https\", \"https://pkg.julialang.org/registries\", 0, \"\", Pair{String, String}[]))\n",
      "└ @ Pkg.Registry /Users/julia/buildbot/worker/package_macos64/build/usr/share/julia/stdlib/v1.7/Pkg/src/Registry/Registry.jl:82\n",
      "\u001b[32m\u001b[1m   Resolving\u001b[22m\u001b[39m package versions...\n",
      "\u001b[32m\u001b[1m  No Changes\u001b[22m\u001b[39m to `~/.julia/environments/v1.7/Project.toml`\n",
      "\u001b[32m\u001b[1m  No Changes\u001b[22m\u001b[39m to `~/.julia/environments/v1.7/Manifest.toml`\n",
      "\u001b[32m\u001b[1m   Resolving\u001b[22m\u001b[39m package versions...\n",
      "\u001b[32m\u001b[1m  No Changes\u001b[22m\u001b[39m to `~/.julia/environments/v1.7/Project.toml`\n",
      "\u001b[32m\u001b[1m  No Changes\u001b[22m\u001b[39m to `~/.julia/environments/v1.7/Manifest.toml`\n",
      "\u001b[32m\u001b[1m   Resolving\u001b[22m\u001b[39m package versions...\n",
      "\u001b[32m\u001b[1m  No Changes\u001b[22m\u001b[39m to `~/.julia/environments/v1.7/Project.toml`\n",
      "\u001b[32m\u001b[1m  No Changes\u001b[22m\u001b[39m to `~/.julia/environments/v1.7/Manifest.toml`\n"
     ]
    }
   ],
   "source": [
    "using Pkg\n",
    "Pkg.add(\"LinearAlgebra\")\n",
    "Pkg.add(\"Plots\")\n",
    "Pkg.add(\"Random\")\n",
    "using LinearAlgebra\n",
    "using Plots\n",
    "using Random"
   ]
  },
  {
   "cell_type": "markdown",
   "id": "ee670631-baaf-430f-ba66-d98199923ac8",
   "metadata": {},
   "source": [
    "# Nice"
   ]
  },
  {
   "cell_type": "markdown",
   "id": "3bee9421-2128-4491-837c-a6329339c484",
   "metadata": {},
   "source": [
    "## Neurons"
   ]
  },
  {
   "cell_type": "code",
   "execution_count": 49,
   "id": "f74df53f-f81c-4d60-9d31-3e8169e4e64c",
   "metadata": {},
   "outputs": [
    {
     "data": {
      "text/plain": [
       "initialise_weights (generic function with 1 method)"
      ]
     },
     "execution_count": 49,
     "metadata": {},
     "output_type": "execute_result"
    }
   ],
   "source": [
    "function generate_memories(\n",
    "        N::Int8,\n",
    "        n::Int8\n",
    "        )\n",
    "    \"\"\"\n",
    "    Generate n random N neuron memories.\n",
    "    Columns neuron states\n",
    "    Rows memory\n",
    "    \"\"\"\n",
    "    return bitrand((N,n))\n",
    "end \n",
    "\n",
    "function initialise_weights(\n",
    "        memories\n",
    "        )\n",
    "    \"\"\"\n",
    "    Initialise and return weight matrix.\n",
    "    \n",
    "    Given the matrix of memories to store where each column \n",
    "    is a state, each row a memory, return a matrix of\n",
    "    weights between neurons in network via Hebbian \n",
    "    learning prescription.\n",
    "    \"\"\"\n",
    "    # Initialise Tij weight matrix \n",
    "    N = length(memories[:,1])\n",
    "    n = length(memories[1,:])\n",
    "    T = zeros(\n",
    "        Int8,\n",
    "        (N,N)\n",
    "    )\n",
    "    \n",
    "    # Iterate via Hebbian learning rule\n",
    "    for ii in 1:N\n",
    "        for jj in 1:N\n",
    "            for kk in 1:n\n",
    "                T[ii,jj] += (2*memories[ii,kk] - 1)*(2*memories[jj,kk]-1)\n",
    "            end\n",
    "        end\n",
    "    end\n",
    "                \n",
    "    return T\n",
    "end"
   ]
  },
  {
   "cell_type": "markdown",
   "id": "f3ae24dc-ece8-4eb5-a4c4-4c5d9deb41cf",
   "metadata": {},
   "source": [
    "## Learning"
   ]
  },
  {
   "cell_type": "code",
   "execution_count": 2,
   "id": "b8679fee-f4f5-4520-a55f-4bd38d9d0df1",
   "metadata": {},
   "outputs": [
    {
     "ename": "LoadError",
     "evalue": "syntax: incomplete: invalid string syntax",
     "output_type": "error",
     "traceback": [
      "syntax: incomplete: invalid string syntax",
      "",
      "Stacktrace:",
      " [1] top-level scope",
      "   @ In[2]:1",
      " [2] eval",
      "   @ ./boot.jl:373 [inlined]",
      " [3] include_string(mapexpr::typeof(REPL.softscope), mod::Module, code::String, filename::String)",
      "   @ Base ./loading.jl:1196"
     ]
    }
   ],
   "source": [
    "function learning_step(\n",
    "        weights,\n",
    "        neuron_states,\n",
    "        activations\n",
    "        )\n",
    "    \"\"\"\n",
    "    Update the firing state of one neuron randomly via \n",
    "    Hopfield's learning prescription.\n",
    "    \n",
    "    Args\n",
    "    ----\n",
    "    weights: matrix\n",
    "        matrix of weights between neurons \n",
    "    \n",
    "    neuron_states: vector\n",
    "        vector of current binary neuron activations in the\n",
    "        system. \n",
    "    \n",
    "    activations: vector \n",
    "    \n",
    "    Returns \n",
    "    -------\n",
    "    updated_neuron_states: vector\n",
    "    \"\"\"\n",
    "    # Select a neuron to update \n",
    "    selction = rand(1:length(neuron_states))\n",
    "    "
   ]
  },
  {
   "cell_type": "markdown",
   "id": "40b06595-a3c1-48ec-8a6c-dc043b5b280f",
   "metadata": {},
   "source": [
    "# Rough"
   ]
  },
  {
   "cell_type": "markdown",
   "id": "0e32809c-d1dd-4b03-993e-c793610e9198",
   "metadata": {
    "tags": []
   },
   "source": [
    "## Learning"
   ]
  },
  {
   "cell_type": "code",
   "execution_count": 7,
   "id": "e1311241-d5ca-4085-8915-17749b0a7066",
   "metadata": {},
   "outputs": [
    {
     "data": {
      "text/plain": [
       "10×1 BitMatrix:\n",
       " 1\n",
       " 1\n",
       " 1\n",
       " 0\n",
       " 1\n",
       " 0\n",
       " 1\n",
       " 0\n",
       " 0\n",
       " 0"
      ]
     },
     "execution_count": 7,
     "metadata": {},
     "output_type": "execute_result"
    }
   ],
   "source": [
    "neurons = bitrand((10,1))"
   ]
  },
  {
   "cell_type": "code",
   "execution_count": 10,
   "id": "e79e8efe-3334-44c2-bb2d-01fe97b4dbc8",
   "metadata": {},
   "outputs": [
    {
     "data": {
      "text/plain": [
       "10×1 Matrix{Int8}:\n",
       " 0\n",
       " 0\n",
       " 0\n",
       " 0\n",
       " 0\n",
       " 0\n",
       " 0\n",
       " 0\n",
       " 0\n",
       " 0"
      ]
     },
     "execution_count": 10,
     "metadata": {},
     "output_type": "execute_result"
    }
   ],
   "source": [
    "activations = zeros(Int8, (10,1))"
   ]
  },
  {
   "cell_type": "code",
   "execution_count": 21,
   "id": "dfda3b54-6be5-42ef-948c-6ef2715a6ba4",
   "metadata": {},
   "outputs": [
    {
     "data": {
      "text/plain": [
       "4"
      ]
     },
     "execution_count": 21,
     "metadata": {},
     "output_type": "execute_result"
    }
   ],
   "source": [
    "sel = rand(1:length(neurons))"
   ]
  },
  {
   "cell_type": "code",
   "execution_count": 24,
   "id": "5b2028f1-246c-4f20-810d-7f6a7fc3562d",
   "metadata": {},
   "outputs": [
    {
     "data": {
      "text/plain": [
       "1:1:10"
      ]
     },
     "execution_count": 24,
     "metadata": {},
     "output_type": "execute_result"
    }
   ],
   "source": [
    "a = Array{Int8}"
   ]
  },
  {
   "cell_type": "code",
   "execution_count": 25,
   "id": "79c5fac9-3468-4b9c-9d1e-b9b094398cef",
   "metadata": {},
   "outputs": [
    {
     "data": {
      "text/plain": [
       "2"
      ]
     },
     "execution_count": 25,
     "metadata": {},
     "output_type": "execute_result"
    }
   ],
   "source": [
    "a[2]"
   ]
  },
  {
   "cell_type": "code",
   "execution_count": 26,
   "id": "a454dfcf-d7aa-4092-9c6b-182b250af767",
   "metadata": {},
   "outputs": [
    {
     "ename": "LoadError",
     "evalue": "MethodError: no method matching deleteat!(::StepRange{Int64, Int64}, ::Int64)\n\u001b[0mClosest candidates are:\n\u001b[0m  deleteat!(\u001b[91m::Vector\u001b[39m, ::Integer) at /Applications/Julia-1.7.app/Contents/Resources/julia/share/julia/base/array.jl:1421\n\u001b[0m  deleteat!(\u001b[91m::Vector\u001b[39m, ::Any) at /Applications/Julia-1.7.app/Contents/Resources/julia/share/julia/base/array.jl:1468\n\u001b[0m  deleteat!(\u001b[91m::BitVector\u001b[39m, ::Integer) at /Applications/Julia-1.7.app/Contents/Resources/julia/share/julia/base/bitarray.jl:949\n\u001b[0m  ...",
     "output_type": "error",
     "traceback": [
      "MethodError: no method matching deleteat!(::StepRange{Int64, Int64}, ::Int64)\n\u001b[0mClosest candidates are:\n\u001b[0m  deleteat!(\u001b[91m::Vector\u001b[39m, ::Integer) at /Applications/Julia-1.7.app/Contents/Resources/julia/share/julia/base/array.jl:1421\n\u001b[0m  deleteat!(\u001b[91m::Vector\u001b[39m, ::Any) at /Applications/Julia-1.7.app/Contents/Resources/julia/share/julia/base/array.jl:1468\n\u001b[0m  deleteat!(\u001b[91m::BitVector\u001b[39m, ::Integer) at /Applications/Julia-1.7.app/Contents/Resources/julia/share/julia/base/bitarray.jl:949\n\u001b[0m  ...",
      "",
      "Stacktrace:",
      " [1] top-level scope",
      "   @ In[26]:1",
      " [2] eval",
      "   @ ./boot.jl:373 [inlined]",
      " [3] include_string(mapexpr::typeof(REPL.softscope), mod::Module, code::String, filename::String)",
      "   @ Base ./loading.jl:1196"
     ]
    }
   ],
   "source": [
    "deleteat!(a, sel)"
   ]
  },
  {
   "cell_type": "code",
   "execution_count": null,
   "id": "9bd41a0e-4ea9-4af4-b754-5d028af16fab",
   "metadata": {},
   "outputs": [],
   "source": []
  }
 ],
 "metadata": {
  "kernelspec": {
   "display_name": "Julia 1.7.3",
   "language": "julia",
   "name": "julia-1.7"
  },
  "language_info": {
   "file_extension": ".jl",
   "mimetype": "application/julia",
   "name": "julia",
   "version": "1.7.3"
  }
 },
 "nbformat": 4,
 "nbformat_minor": 5
}

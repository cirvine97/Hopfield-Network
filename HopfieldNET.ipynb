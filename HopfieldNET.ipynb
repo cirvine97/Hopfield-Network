{
 "cells": [
  {
   "cell_type": "code",
   "execution_count": 1,
   "id": "18d208d0-b738-4912-ab43-4c55f9e5b4f4",
   "metadata": {
    "tags": []
   },
   "outputs": [
    {
     "name": "stderr",
     "output_type": "stream",
     "text": [
      "\u001b[32m\u001b[1m    Updating\u001b[22m\u001b[39m registry at `~/.julia/registries/General.toml`\n",
      "\u001b[32m\u001b[1m   Resolving\u001b[22m\u001b[39m package versions...\n",
      "\u001b[32m\u001b[1m  No Changes\u001b[22m\u001b[39m to `~/.julia/environments/v1.7/Project.toml`\n",
      "\u001b[32m\u001b[1m  No Changes\u001b[22m\u001b[39m to `~/.julia/environments/v1.7/Manifest.toml`\n",
      "\u001b[32m\u001b[1m   Resolving\u001b[22m\u001b[39m package versions...\n",
      "\u001b[32m\u001b[1m  No Changes\u001b[22m\u001b[39m to `~/.julia/environments/v1.7/Project.toml`\n",
      "\u001b[32m\u001b[1m  No Changes\u001b[22m\u001b[39m to `~/.julia/environments/v1.7/Manifest.toml`\n",
      "\u001b[32m\u001b[1m   Resolving\u001b[22m\u001b[39m package versions...\n",
      "\u001b[32m\u001b[1m  No Changes\u001b[22m\u001b[39m to `~/.julia/environments/v1.7/Project.toml`\n",
      "\u001b[32m\u001b[1m  No Changes\u001b[22m\u001b[39m to `~/.julia/environments/v1.7/Manifest.toml`\n"
     ]
    }
   ],
   "source": [
    "using Pkg\n",
    "Pkg.add(\"LinearAlgebra\")\n",
    "Pkg.add(\"Plots\")\n",
    "Pkg.add(\"Random\")\n",
    "using LinearAlgebra\n",
    "using Plots\n",
    "using Random"
   ]
  },
  {
   "cell_type": "markdown",
   "id": "ee670631-baaf-430f-ba66-d98199923ac8",
   "metadata": {},
   "source": [
    "# Nice"
   ]
  },
  {
   "cell_type": "markdown",
   "id": "3bee9421-2128-4491-837c-a6329339c484",
   "metadata": {},
   "source": [
    "## Neurons"
   ]
  },
  {
   "cell_type": "code",
   "execution_count": 9,
   "id": "f74df53f-f81c-4d60-9d31-3e8169e4e64c",
   "metadata": {},
   "outputs": [
    {
     "data": {
      "text/plain": [
       "initialise_network (generic function with 1 method)"
      ]
     },
     "execution_count": 9,
     "metadata": {},
     "output_type": "execute_result"
    }
   ],
   "source": [
    "function generate_memories(\n",
    "        N,\n",
    "        n\n",
    "        )\n",
    "    \"\"\"\n",
    "    Generate n random N neuron memories.\n",
    "    Columns neuron states\n",
    "    Rows memory\n",
    "    \"\"\"\n",
    "    return bitrand((N,n))\n",
    "end \n",
    "\n",
    "function initialise_weights(\n",
    "        memories\n",
    "        )\n",
    "    \"\"\"\n",
    "    Initialise and return weight matrix.\n",
    "    \n",
    "    Given the matrix of memories to store where each column \n",
    "    is a state, each row a memory, return a matrix of\n",
    "    weights between neurons in network via Hebbian \n",
    "    learning prescription.\n",
    "    \"\"\"\n",
    "    # Initialise Tij weight matrix \n",
    "    N = length(memories[:,1])\n",
    "    n = length(memories[1,:])\n",
    "    T = zeros(\n",
    "        Int8,\n",
    "        (N,N)\n",
    "    )\n",
    "    \n",
    "    # Iterate via Hebbian learning rule\n",
    "    for ii in 1:N\n",
    "        for jj in 1:N\n",
    "            for kk in 1:n\n",
    "                T[ii,jj] += (2*memories[ii,kk] - 1)*(2*memories[jj,kk]-1)\n",
    "            end\n",
    "        end\n",
    "    end\n",
    "                \n",
    "    return T\n",
    "end\n",
    "\n",
    "function initialise_network(\n",
    "    N\n",
    ")\n",
    "\"\"\"\n",
    "Initialise and return network of neurons.\n",
    "\"\"\"\n",
    "return bitrand((N,1))\n",
    "end"
   ]
  },
  {
   "cell_type": "markdown",
   "id": "f3ae24dc-ece8-4eb5-a4c4-4c5d9deb41cf",
   "metadata": {},
   "source": [
    "## Learning"
   ]
  },
  {
   "cell_type": "code",
   "execution_count": 26,
   "id": "b8679fee-f4f5-4520-a55f-4bd38d9d0df1",
   "metadata": {},
   "outputs": [
    {
     "data": {
      "text/plain": [
       "learning_step (generic function with 1 method)"
      ]
     },
     "execution_count": 26,
     "metadata": {},
     "output_type": "execute_result"
    }
   ],
   "source": [
    "function learning_step(\n",
    "        weights,\n",
    "        neuron_states,\n",
    "        activations\n",
    "        )\n",
    "    \"\"\"\n",
    "    Update the firing state of one neuron randomly via \n",
    "    Hopfield's learning prescription.\n",
    "    \n",
    "    Args\n",
    "    ----\n",
    "    weights: matrix\n",
    "        matrix of weights between neurons \n",
    "    \n",
    "    neuron_states: vector\n",
    "        vector of current binary neuron states in the\n",
    "        system. \n",
    "    \n",
    "    activations: vector \n",
    "        The activation threshold for each neuron.\n",
    "    \n",
    "    Returns \n",
    "    -------\n",
    "    updated_neuron_states: vector\n",
    "    \"\"\"\n",
    "    # Select a neuron to update \n",
    "    selection = rand(1:length(neuron_states))\n",
    "    \n",
    "    # Compute the input to the neuron \n",
    "    input = dot(weights[selection,:], neuron_states)\n",
    "\n",
    "    # Update the neuron state\n",
    "    if input > activations[selection]\n",
    "        neuron_states[selection] = 1\n",
    "    else\n",
    "        neuron_states[selection] = 0\n",
    "    end\n",
    "\n",
    "    # Return the updated neuron states\n",
    "    return neuron_states\n",
    "\n",
    "end"
   ]
  },
  {
   "cell_type": "markdown",
   "id": "40b06595-a3c1-48ec-8a6c-dc043b5b280f",
   "metadata": {},
   "source": [
    "# Rough"
   ]
  },
  {
   "cell_type": "markdown",
   "id": "0e32809c-d1dd-4b03-993e-c793610e9198",
   "metadata": {
    "tags": []
   },
   "source": [
    "## Learning"
   ]
  },
  {
   "cell_type": "code",
   "execution_count": 23,
   "id": "9bd41a0e-4ea9-4af4-b754-5d028af16fab",
   "metadata": {},
   "outputs": [
    {
     "data": {
      "text/plain": [
       "10×10 Matrix{Int8}:\n",
       "  5  -1  -1   1  -3   3   1  -3  -3  -1\n",
       " -1   5  -3  -1  -1   1  -1  -1  -1   1\n",
       " -1  -3   5  -1   3  -3  -1   3  -1   1\n",
       "  1  -1  -1   5   1  -1   1  -3   1   3\n",
       " -3  -1   3   1   5  -5   1   1   1   3\n",
       "  3   1  -3  -1  -5   5  -1  -1  -1  -3\n",
       "  1  -1  -1   1   1  -1   5  -3   1  -1\n",
       " -3  -1   3  -3   1  -1  -3   5   1  -1\n",
       " -3  -1  -1   1   1  -1   1   1   5  -1\n",
       " -1   1   1   3   3  -3  -1  -1  -1   5"
      ]
     },
     "execution_count": 23,
     "metadata": {},
     "output_type": "execute_result"
    }
   ],
   "source": [
    "# Run test\n",
    "# Have 10 neurons and 5 memories\n",
    "neurons = 10\n",
    "memories = 5\n",
    "\n",
    "# Generate random memories\n",
    "memories = generate_memories(neurons,memories)\n",
    "\n",
    "# Initialise weights\n",
    "weights = initialise_weights(memories)"
   ]
  },
  {
   "cell_type": "code",
   "execution_count": 24,
   "id": "542032ab",
   "metadata": {},
   "outputs": [
    {
     "data": {
      "text/plain": [
       "10×1 Matrix{Int8}:\n",
       " 0\n",
       " 0\n",
       " 0\n",
       " 0\n",
       " 0\n",
       " 0\n",
       " 0\n",
       " 0\n",
       " 0\n",
       " 0"
      ]
     },
     "execution_count": 24,
     "metadata": {},
     "output_type": "execute_result"
    }
   ],
   "source": [
    "network = initialise_network(neurons)\n",
    "\n",
    "# Perform learning \n",
    "steps = 100\n",
    "\n",
    "# Activations as array of length neurons all set to 0 \n",
    "activations = zeros(Int8,(neurons,1))\n",
    "\n",
    "\n"
   ]
  },
  {
   "cell_type": "code",
   "execution_count": 28,
   "id": "b447d2c3",
   "metadata": {},
   "outputs": [
    {
     "name": "stdout",
     "output_type": "stream",
     "text": [
      "\n",
      "Bool[1; 1; 0; 1; 0; 1; 1; 0; 0; 0;;]\n",
      "Bool[1; 1; 0; 1; 0; 1; 1; 0; 0; 0;;]\n",
      "Bool[1; 1; 0; 1; 0; 1; 1; 0; 0; 0;;]\n",
      "Bool[1; 1; 0; 1; 0; 1; 1; 0; 0; 0;;]\n",
      "Bool[1; 1; 0; 1; 0; 1; 1; 0; 0; 0;;]\n",
      "Bool[1; 1; 0; 1; 0; 1; 1; 0; 0; 0;;]\n",
      "Bool[1; 1; 0; 1; 0; 1; 1; 0; 0; 0;;]\n",
      "Bool[1; 1; 0; 1; 0; 1; 1; 0; 0; 0;;]\n",
      "Bool[1; 1; 0; 1; 0; 1; 1; 0; 0; 0;;]\n",
      "Bool[1; 1; 0; 1; 0; 1; 1; 0; 0; 0;;]\n",
      "Bool[1; 1; 0; 1; 0; 1; 1; 0; 0; 0;;]\n",
      "Bool[1; 1; 0; 1; 0; 1; 1; 0; 0; 0;;]\n",
      "Bool[1; 1; 0; 1; 0; 1; 1; 0; 0; 0;;]\n",
      "Bool[1; 1; 0; 1; 0; 1; 1; 0; 0; 0;;]\n",
      "Bool[1; 1; 0; 1; 0; 1; 1; 0; 0; 0;;]\n",
      "Bool[1; 1; 0; 1; 0; 1; 1; 0; 0; 0;;]\n",
      "Bool[1; 1; 0; 1; 0; 1; 1; 0; 0; 0;;]\n",
      "Bool[1; 1; 0; 1; 0; 1; 1; 0; 0; 0;;]\n",
      "Bool[1; 1; 0; 1; 0; 1; 1; 0; 0; 0;;]\n",
      "Bool[1; 1; 0; 1; 0; 1; 1; 0; 0; 0;;]\n",
      "Bool[1; 1; 0; 1; 0; 1; 1; 0; 0; 0;;]\n",
      "Bool[1; 1; 0; 1; 0; 1; 1; 0; 0; 0;;]\n",
      "Bool[1; 1; 0; 1; 0; 1; 1; 0; 0; 0;;]\n",
      "Bool[1; 1; 0; 1; 0; 1; 1; 0; 0; 0;;]\n",
      "Bool[1; 1; 0; 1; 0; 1; 1; 0; 0; 0;;]\n",
      "Bool[1; 1; 0; 1; 0; 1; 1; 0; 0; 0;;]\n",
      "Bool[1; 1; 0; 1; 0; 1; 1; 0; 0; 0;;]\n",
      "Bool[1; 1; 0; 1; 0; 1; 1; 0; 0; 0;;]\n",
      "Bool[1; 1; 0; 1; 0; 1; 1; 0; 0; 0;;]\n",
      "Bool[1; 1; 0; 1; 0; 1; 1; 0; 0; 0;;]\n",
      "Bool[1; 1; 0; 1; 0; 1; 1; 0; 0; 0;;]\n",
      "Bool[1; 1; 0; 1; 0; 1; 1; 0; 0; 0;;]\n",
      "Bool[1; 1; 0; 1; 0; 1; 1; 0; 0; 0;;]\n",
      "Bool[1; 1; 0; 1; 0; 1; 1; 0; 0; 0;;]\n",
      "Bool[1; 1; 0; 1; 0; 1; 1; 0; 0; 0;;]\n",
      "Bool[1; 1; 0; 1; 0; 1; 1; 0; 0; 0;;]\n",
      "Bool[1; 1; 0; 1; 0; 1; 1; 0; 0; 0;;]\n",
      "Bool[1; 1; 0; 1; 0; 1; 1; 0; 0; 0;;]\n",
      "Bool[1; 1; 0; 1; 0; 1; 1; 0; 0; 0;;]\n",
      "Bool[1; 1; 0; 1; 0; 1; 1; 0; 0; 0;;]\n",
      "Bool[1; 1; 0; 1; 0; 1; 1; 0; 0; 0;;]\n",
      "Bool[1; 1; 0; 1; 0; 1; 1; 0; 0; 0;;]\n",
      "Bool[1; 1; 0; 1; 0; 1; 1; 0; 0; 0;;]\n",
      "Bool[1; 1; 0; 1; 0; 1; 1; 0; 0; 0;;]\n",
      "Bool[1; 1; 0; 1; 0; 1; 1; 0; 0; 0;;]\n",
      "Bool[1; 1; 0; 1; 0; 1; 1; 0; 0; 0;;]\n",
      "Bool[1; 1; 0; 1; 0; 1; 1; 0; 0; 0;;]\n",
      "Bool[1; 1; 0; 1; 0; 1; 1; 0; 0; 0;;]\n",
      "Bool[1; 1; 0; 1; 0; 1; 1; 0; 0; 0;;]\n",
      "Bool[1; 1; 0; 1; 0; 1; 1; 0; 0; 0;;]\n",
      "Bool[1; 1; 0; 1; 0; 1; 1; 0; 0; 0;;]\n",
      "Bool[1; 1; 0; 1; 0; 1; 1; 0; 0; 0;;]\n",
      "Bool[1; 1; 0; 1; 0; 1; 1; 0; 0; 0;;]\n",
      "Bool[1; 1; 0; 1; 0; 1; 1; 0; 0; 0;;]\n",
      "Bool[1; 1; 0; 1; 0; 1; 1; 0; 0; 0;;]\n",
      "Bool[1; 1; 0; 1; 0; 1; 1; 0; 0; 0;;]\n",
      "Bool[1; 1; 0; 1; 0; 1; 1; 0; 0; 0;;]\n",
      "Bool[1; 1; 0; 1; 0; 1; 1; 0; 0; 0;;]\n",
      "Bool[1; 1; 0; 1; 0; 1; 1; 0; 0; 0;;]\n",
      "Bool[1; 1; 0; 1; 0; 1; 1; 0; 0; 0;;]\n",
      "Bool[1; 1; 0; 1; 0; 1; 1; 0; 0; 0;;]\n",
      "Bool[1; 1; 0; 1; 0; 1; 1; 0; 0; 0;;]\n",
      "Bool[1; 1; 0; 1; 0; 1; 1; 0; 0; 0;;]\n",
      "Bool[1; 1; 0; 1; 0; 1; 1; 0; 0; 0;;]\n",
      "Bool[1; 1; 0; 1; 0; 1; 1; 0; 0; 0;;]\n",
      "Bool[1; 1; 0; 1; 0; 1; 1; 0; 0; 0;;]\n",
      "Bool[1; 1; 0; 1; 0; 1; 1; 0; 0; 0;;]\n",
      "Bool[1; 1; 0; 1; 0; 1; 1; 0; 0; 0;;]\n",
      "Bool[1; 1; 0; 1; 0; 1; 1; 0; 0; 0;;]\n",
      "Bool[1; 1; 0; 1; 0; 1; 1; 0; 0; 0;;]\n",
      "Bool[1; 1; 0; 1; 0; 1; 1; 0; 0; 0;;]\n",
      "Bool[1; 1; 0; 1; 0; 1; 1; 0; 0; 0;;]\n",
      "Bool[1; 1; 0; 1; 0; 1; 1; 0; 0; 0;;]\n",
      "Bool[1; 1; 0; 1; 0; 1; 1; 0; 0; 0;;]\n",
      "Bool[1; 1; 0; 1; 0; 1; 1; 0; 0; 0;;]\n",
      "Bool[1; 1; 0; 1; 0; 1; 1; 0; 0; 0;;]\n",
      "Bool[1; 1; 0; 1; 0; 1; 1; 0; 0; 0;;]\n",
      "Bool[1; 1; 0; 1; 0; 1; 1; 0; 0; 0;;]\n",
      "Bool[1; 1; 0; 1; 0; 1; 1; 0; 0; 0;;]\n",
      "Bool[1; 1; 0; 1; 0; 1; 1; 0; 0; 0;;]\n",
      "Bool[1; 1; 0; 1; 0; 1; 1; 0; 0; 0;;]\n",
      "Bool[1; 1; 0; 1; 0; 1; 1; 0; 0; 0;;]\n",
      "Bool[1; 1; 0; 1; 0; 1; 1; 0; 0; 0;;]\n",
      "Bool[1; 1; 0; 1; 0; 1; 1; 0; 0; 0;;]\n",
      "Bool[1; 1; 0; 1; 0; 1; 1; 0; 0; 0;;]\n",
      "Bool[1; 1; 0; 1; 0; 1; 1; 0; 0; 0;;]\n",
      "Bool[1; 1; 0; 1; 0; 1; 1; 0; 0; 0;;]\n",
      "Bool[1; 1; 0; 1; 0; 1; 1; 0; 0; 0;;]\n",
      "Bool[1; 1; 0; 1; 0; 1; 1; 0; 0; 0;;]\n",
      "Bool[1; 1; 0; 1; 0; 1; 1; 0; 0; 0;;]\n",
      "Bool[1; 1; 0; 1; 0; 1; 1; 0; 0; 0;;]\n",
      "Bool[1; 1; 0; 1; 0; 1; 1; 0; 0; 0;;]\n",
      "Bool[1; 1; 0; 1; 0; 1; 1; 0; 0; 0;;]\n",
      "Bool[1; 1; 0; 1; 0; 1; 1; 0; 0; 0;;]\n",
      "Bool[1; 1; 0; 1; 0; 1; 1; 0; 0; 0;;]\n",
      "Bool[1; 1; 0; 1; 0; 1; 1; 0; 0; 0;;]\n",
      "Bool[1; 1; 0; 1; 0; 1; 1; 0; 0; 0;;]\n",
      "Bool[1; 1; 0; 1; 0; 1; 1; 0; 0; 0;;]\n",
      "Bool[1; 1; 0; 1; 0; 1; 1; 0; 0; 0;;]\n",
      "Bool[1; 1; 0; 1; 0; 1; 1; 0; 0; 0;;]"
     ]
    }
   ],
   "source": [
    "# Iterate through learning \n",
    "for ii in 1:steps\n",
    "    network = learning_step(weights,network,activations)\n",
    "    print('\\n', network)\n",
    "end"
   ]
  },
  {
   "cell_type": "code",
   "execution_count": null,
   "id": "33c231b0",
   "metadata": {},
   "outputs": [],
   "source": []
  }
 ],
 "metadata": {
  "kernelspec": {
   "display_name": "Julia 1.7.3",
   "language": "julia",
   "name": "julia-1.7"
  },
  "language_info": {
   "file_extension": ".jl",
   "mimetype": "application/julia",
   "name": "julia",
   "version": "1.7.3"
  }
 },
 "nbformat": 4,
 "nbformat_minor": 5
}
